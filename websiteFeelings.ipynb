{
 "cells": [
  {
   "cell_type": "markdown",
   "metadata": {},
   "source": [
    "<div style=\"text-align: center; font-size: 1.5em; margin-top: 1em; margin-bottom: 2em;\"><h1>Website Feelings</h1></div>\n",
    "<div style=\"text-align: center; font-size: 1.2em; margin-top: 1em; margin-bottom: 2em;\"><h3>Scrape a website, extract the text, calculate keyword density and analyse the sentiment</h3><p style=\"text-align: center;\">If the website is in another language, the algorithm will try to translate it to English for better sentiment analysis</p></div>"
   ]
  },
  {
   "cell_type": "code",
   "execution_count": 3,
   "metadata": {
    "collapsed": false
   },
   "outputs": [],
   "source": [
    "%run webFeels.py"
   ]
  },
  {
   "cell_type": "markdown",
   "metadata": {},
   "source": [
    "<br/>"
   ]
  },
  {
   "cell_type": "markdown",
   "metadata": {},
   "source": [
    "<hr/><div style=\"text-align: center; font-size: 1.2em; margin-top: 1em;\">Copyright <a style=\"text-decoration: none;\" href=\"http://nicolaspettican.com\">Nicolas Pettican</a></div>"
   ]
  }
 ],
 "metadata": {
  "kernelspec": {
   "display_name": "Python [Root]",
   "language": "python",
   "name": "Python [Root]"
  },
  "language_info": {
   "codemirror_mode": {
    "name": "ipython",
    "version": 2
   },
   "file_extension": ".py",
   "mimetype": "text/x-python",
   "name": "python",
   "nbconvert_exporter": "python",
   "pygments_lexer": "ipython2",
   "version": "2.7.12"
  }
 },
 "nbformat": 4,
 "nbformat_minor": 0
}
